{
  "cells": [
    {
      "cell_type": "markdown",
      "metadata": {
        "id": "view-in-github",
        "colab_type": "text"
      },
      "source": [
        "<a href=\"https://colab.research.google.com/github/SHEHAN-120/fine-tune-medical-reports/blob/main/fine_tune_medical_reports.ipynb\" target=\"_parent\"><img src=\"https://colab.research.google.com/assets/colab-badge.svg\" alt=\"Open In Colab\"/></a>"
      ]
    },
    {
      "cell_type": "code",
      "source": [
        "import pandas as pd"
      ],
      "metadata": {
        "id": "ZKbJrsGiPyTX"
      },
      "execution_count": null,
      "outputs": []
    },
    {
      "cell_type": "code",
      "source": [
        "medical_reports=pd.read_csv('reports.csv')"
      ],
      "metadata": {
        "id": "VcKZlHq-P5Ml"
      },
      "execution_count": null,
      "outputs": []
    },
    {
      "cell_type": "code",
      "source": [
        "medical_reports.head()"
      ],
      "metadata": {
        "colab": {
          "base_uri": "https://localhost:8080/",
          "height": 206
        },
        "id": "1T6hYaN8QEe5",
        "outputId": "fe2615bf-bcc7-4d07-fda2-184dc06eab3c"
      },
      "execution_count": null,
      "outputs": [
        {
          "output_type": "execute_result",
          "data": {
            "text/plain": [
              "            medical_specialty  \\\n",
              "0  Cardiovascular / Pulmonary   \n",
              "1  Cardiovascular / Pulmonary   \n",
              "2  Cardiovascular / Pulmonary   \n",
              "3  Cardiovascular / Pulmonary   \n",
              "4  Cardiovascular / Pulmonary   \n",
              "\n",
              "                                              report  \n",
              "0  2-D M-MODE: , ,1.  Left atrial enlargement wit...  \n",
              "1  1.  The left ventricular cavity size and wall ...  \n",
              "2  2-D ECHOCARDIOGRAM,Multiple views of the heart...  \n",
              "3  DESCRIPTION:,1.  Normal cardiac chambers size....  \n",
              "4  2-D STUDY,1. Mild aortic stenosis, widely calc...  "
            ],
            "text/html": [
              "\n",
              "  <div id=\"df-7fca782a-0fb8-48de-a490-27a6cbf7e468\" class=\"colab-df-container\">\n",
              "    <div>\n",
              "<style scoped>\n",
              "    .dataframe tbody tr th:only-of-type {\n",
              "        vertical-align: middle;\n",
              "    }\n",
              "\n",
              "    .dataframe tbody tr th {\n",
              "        vertical-align: top;\n",
              "    }\n",
              "\n",
              "    .dataframe thead th {\n",
              "        text-align: right;\n",
              "    }\n",
              "</style>\n",
              "<table border=\"1\" class=\"dataframe\">\n",
              "  <thead>\n",
              "    <tr style=\"text-align: right;\">\n",
              "      <th></th>\n",
              "      <th>medical_specialty</th>\n",
              "      <th>report</th>\n",
              "    </tr>\n",
              "  </thead>\n",
              "  <tbody>\n",
              "    <tr>\n",
              "      <th>0</th>\n",
              "      <td>Cardiovascular / Pulmonary</td>\n",
              "      <td>2-D M-MODE: , ,1.  Left atrial enlargement wit...</td>\n",
              "    </tr>\n",
              "    <tr>\n",
              "      <th>1</th>\n",
              "      <td>Cardiovascular / Pulmonary</td>\n",
              "      <td>1.  The left ventricular cavity size and wall ...</td>\n",
              "    </tr>\n",
              "    <tr>\n",
              "      <th>2</th>\n",
              "      <td>Cardiovascular / Pulmonary</td>\n",
              "      <td>2-D ECHOCARDIOGRAM,Multiple views of the heart...</td>\n",
              "    </tr>\n",
              "    <tr>\n",
              "      <th>3</th>\n",
              "      <td>Cardiovascular / Pulmonary</td>\n",
              "      <td>DESCRIPTION:,1.  Normal cardiac chambers size....</td>\n",
              "    </tr>\n",
              "    <tr>\n",
              "      <th>4</th>\n",
              "      <td>Cardiovascular / Pulmonary</td>\n",
              "      <td>2-D STUDY,1. Mild aortic stenosis, widely calc...</td>\n",
              "    </tr>\n",
              "  </tbody>\n",
              "</table>\n",
              "</div>\n",
              "    <div class=\"colab-df-buttons\">\n",
              "\n",
              "  <div class=\"colab-df-container\">\n",
              "    <button class=\"colab-df-convert\" onclick=\"convertToInteractive('df-7fca782a-0fb8-48de-a490-27a6cbf7e468')\"\n",
              "            title=\"Convert this dataframe to an interactive table.\"\n",
              "            style=\"display:none;\">\n",
              "\n",
              "  <svg xmlns=\"http://www.w3.org/2000/svg\" height=\"24px\" viewBox=\"0 -960 960 960\">\n",
              "    <path d=\"M120-120v-720h720v720H120Zm60-500h600v-160H180v160Zm220 220h160v-160H400v160Zm0 220h160v-160H400v160ZM180-400h160v-160H180v160Zm440 0h160v-160H620v160ZM180-180h160v-160H180v160Zm440 0h160v-160H620v160Z\"/>\n",
              "  </svg>\n",
              "    </button>\n",
              "\n",
              "  <style>\n",
              "    .colab-df-container {\n",
              "      display:flex;\n",
              "      gap: 12px;\n",
              "    }\n",
              "\n",
              "    .colab-df-convert {\n",
              "      background-color: #E8F0FE;\n",
              "      border: none;\n",
              "      border-radius: 50%;\n",
              "      cursor: pointer;\n",
              "      display: none;\n",
              "      fill: #1967D2;\n",
              "      height: 32px;\n",
              "      padding: 0 0 0 0;\n",
              "      width: 32px;\n",
              "    }\n",
              "\n",
              "    .colab-df-convert:hover {\n",
              "      background-color: #E2EBFA;\n",
              "      box-shadow: 0px 1px 2px rgba(60, 64, 67, 0.3), 0px 1px 3px 1px rgba(60, 64, 67, 0.15);\n",
              "      fill: #174EA6;\n",
              "    }\n",
              "\n",
              "    .colab-df-buttons div {\n",
              "      margin-bottom: 4px;\n",
              "    }\n",
              "\n",
              "    [theme=dark] .colab-df-convert {\n",
              "      background-color: #3B4455;\n",
              "      fill: #D2E3FC;\n",
              "    }\n",
              "\n",
              "    [theme=dark] .colab-df-convert:hover {\n",
              "      background-color: #434B5C;\n",
              "      box-shadow: 0px 1px 3px 1px rgba(0, 0, 0, 0.15);\n",
              "      filter: drop-shadow(0px 1px 2px rgba(0, 0, 0, 0.3));\n",
              "      fill: #FFFFFF;\n",
              "    }\n",
              "  </style>\n",
              "\n",
              "    <script>\n",
              "      const buttonEl =\n",
              "        document.querySelector('#df-7fca782a-0fb8-48de-a490-27a6cbf7e468 button.colab-df-convert');\n",
              "      buttonEl.style.display =\n",
              "        google.colab.kernel.accessAllowed ? 'block' : 'none';\n",
              "\n",
              "      async function convertToInteractive(key) {\n",
              "        const element = document.querySelector('#df-7fca782a-0fb8-48de-a490-27a6cbf7e468');\n",
              "        const dataTable =\n",
              "          await google.colab.kernel.invokeFunction('convertToInteractive',\n",
              "                                                    [key], {});\n",
              "        if (!dataTable) return;\n",
              "\n",
              "        const docLinkHtml = 'Like what you see? Visit the ' +\n",
              "          '<a target=\"_blank\" href=https://colab.research.google.com/notebooks/data_table.ipynb>data table notebook</a>'\n",
              "          + ' to learn more about interactive tables.';\n",
              "        element.innerHTML = '';\n",
              "        dataTable['output_type'] = 'display_data';\n",
              "        await google.colab.output.renderOutput(dataTable, element);\n",
              "        const docLink = document.createElement('div');\n",
              "        docLink.innerHTML = docLinkHtml;\n",
              "        element.appendChild(docLink);\n",
              "      }\n",
              "    </script>\n",
              "  </div>\n",
              "\n",
              "\n",
              "    <div id=\"df-9ce4f8b5-89b2-4548-9101-dbd98af76e18\">\n",
              "      <button class=\"colab-df-quickchart\" onclick=\"quickchart('df-9ce4f8b5-89b2-4548-9101-dbd98af76e18')\"\n",
              "                title=\"Suggest charts\"\n",
              "                style=\"display:none;\">\n",
              "\n",
              "<svg xmlns=\"http://www.w3.org/2000/svg\" height=\"24px\"viewBox=\"0 0 24 24\"\n",
              "     width=\"24px\">\n",
              "    <g>\n",
              "        <path d=\"M19 3H5c-1.1 0-2 .9-2 2v14c0 1.1.9 2 2 2h14c1.1 0 2-.9 2-2V5c0-1.1-.9-2-2-2zM9 17H7v-7h2v7zm4 0h-2V7h2v10zm4 0h-2v-4h2v4z\"/>\n",
              "    </g>\n",
              "</svg>\n",
              "      </button>\n",
              "\n",
              "<style>\n",
              "  .colab-df-quickchart {\n",
              "      --bg-color: #E8F0FE;\n",
              "      --fill-color: #1967D2;\n",
              "      --hover-bg-color: #E2EBFA;\n",
              "      --hover-fill-color: #174EA6;\n",
              "      --disabled-fill-color: #AAA;\n",
              "      --disabled-bg-color: #DDD;\n",
              "  }\n",
              "\n",
              "  [theme=dark] .colab-df-quickchart {\n",
              "      --bg-color: #3B4455;\n",
              "      --fill-color: #D2E3FC;\n",
              "      --hover-bg-color: #434B5C;\n",
              "      --hover-fill-color: #FFFFFF;\n",
              "      --disabled-bg-color: #3B4455;\n",
              "      --disabled-fill-color: #666;\n",
              "  }\n",
              "\n",
              "  .colab-df-quickchart {\n",
              "    background-color: var(--bg-color);\n",
              "    border: none;\n",
              "    border-radius: 50%;\n",
              "    cursor: pointer;\n",
              "    display: none;\n",
              "    fill: var(--fill-color);\n",
              "    height: 32px;\n",
              "    padding: 0;\n",
              "    width: 32px;\n",
              "  }\n",
              "\n",
              "  .colab-df-quickchart:hover {\n",
              "    background-color: var(--hover-bg-color);\n",
              "    box-shadow: 0 1px 2px rgba(60, 64, 67, 0.3), 0 1px 3px 1px rgba(60, 64, 67, 0.15);\n",
              "    fill: var(--button-hover-fill-color);\n",
              "  }\n",
              "\n",
              "  .colab-df-quickchart-complete:disabled,\n",
              "  .colab-df-quickchart-complete:disabled:hover {\n",
              "    background-color: var(--disabled-bg-color);\n",
              "    fill: var(--disabled-fill-color);\n",
              "    box-shadow: none;\n",
              "  }\n",
              "\n",
              "  .colab-df-spinner {\n",
              "    border: 2px solid var(--fill-color);\n",
              "    border-color: transparent;\n",
              "    border-bottom-color: var(--fill-color);\n",
              "    animation:\n",
              "      spin 1s steps(1) infinite;\n",
              "  }\n",
              "\n",
              "  @keyframes spin {\n",
              "    0% {\n",
              "      border-color: transparent;\n",
              "      border-bottom-color: var(--fill-color);\n",
              "      border-left-color: var(--fill-color);\n",
              "    }\n",
              "    20% {\n",
              "      border-color: transparent;\n",
              "      border-left-color: var(--fill-color);\n",
              "      border-top-color: var(--fill-color);\n",
              "    }\n",
              "    30% {\n",
              "      border-color: transparent;\n",
              "      border-left-color: var(--fill-color);\n",
              "      border-top-color: var(--fill-color);\n",
              "      border-right-color: var(--fill-color);\n",
              "    }\n",
              "    40% {\n",
              "      border-color: transparent;\n",
              "      border-right-color: var(--fill-color);\n",
              "      border-top-color: var(--fill-color);\n",
              "    }\n",
              "    60% {\n",
              "      border-color: transparent;\n",
              "      border-right-color: var(--fill-color);\n",
              "    }\n",
              "    80% {\n",
              "      border-color: transparent;\n",
              "      border-right-color: var(--fill-color);\n",
              "      border-bottom-color: var(--fill-color);\n",
              "    }\n",
              "    90% {\n",
              "      border-color: transparent;\n",
              "      border-bottom-color: var(--fill-color);\n",
              "    }\n",
              "  }\n",
              "</style>\n",
              "\n",
              "      <script>\n",
              "        async function quickchart(key) {\n",
              "          const quickchartButtonEl =\n",
              "            document.querySelector('#' + key + ' button');\n",
              "          quickchartButtonEl.disabled = true;  // To prevent multiple clicks.\n",
              "          quickchartButtonEl.classList.add('colab-df-spinner');\n",
              "          try {\n",
              "            const charts = await google.colab.kernel.invokeFunction(\n",
              "                'suggestCharts', [key], {});\n",
              "          } catch (error) {\n",
              "            console.error('Error during call to suggestCharts:', error);\n",
              "          }\n",
              "          quickchartButtonEl.classList.remove('colab-df-spinner');\n",
              "          quickchartButtonEl.classList.add('colab-df-quickchart-complete');\n",
              "        }\n",
              "        (() => {\n",
              "          let quickchartButtonEl =\n",
              "            document.querySelector('#df-9ce4f8b5-89b2-4548-9101-dbd98af76e18 button');\n",
              "          quickchartButtonEl.style.display =\n",
              "            google.colab.kernel.accessAllowed ? 'block' : 'none';\n",
              "        })();\n",
              "      </script>\n",
              "    </div>\n",
              "\n",
              "    </div>\n",
              "  </div>\n"
            ],
            "application/vnd.google.colaboratory.intrinsic+json": {
              "type": "dataframe",
              "variable_name": "medical_reports",
              "summary": "{\n  \"name\": \"medical_reports\",\n  \"rows\": 2179,\n  \"fields\": [\n    {\n      \"column\": \"medical_specialty\",\n      \"properties\": {\n        \"dtype\": \"category\",\n        \"num_unique_values\": 5,\n        \"samples\": [\n          \"Neurology\",\n          \"Gastroenterology\",\n          \"Surgery\"\n        ],\n        \"semantic_type\": \"\",\n        \"description\": \"\"\n      }\n    },\n    {\n      \"column\": \"report\",\n      \"properties\": {\n        \"dtype\": \"string\",\n        \"num_unique_values\": 1631,\n        \"samples\": [\n          \"CC:, Transient visual field loss.,HX: ,This 58 y/o RHF had a 2 yr h/o increasing gait difficulty which she attributed to generalized weakness and occasional visual obscurations. She was evaluated by a local physician several days prior to this presentation (1/7/91), for clumsiness of her right hand and falling. HCT and MRI brain revealed bilateral posterior clinoid masses.,MEDS:, Colace, Quinidine, Synthroid, Lasix, Lanoxin, KCL, Elavil, Tenormin.,PMH: ,1) Obesity.  2) VBG, 1990.  3) A-Fib. 4) HTN.  5) Hypothyroidism.  6) Hypercholesterolemia. 7) Briquet's syndrome: h/o of hysterical paralysis. 8) CLL, dx 1989; in 1992 presented with left neck lymphadenopathy and received 5 cycles of chlorambucil/prednisone chemotherapy; 10/95 parotid gland biopsy was consistent with CLL and she received 5 more cycles of chlorambucil/prednisone; 1/10/96, she received 3000cGy to right parotid mass. 9) SNHL,FHX:, Father died, MI age 61.,SHX:, Denied Tobacco/ETOH/illicit drug use.,EXAM:, Vitals were unremarkable.,The neurologic exam was unremarkable except for obesity and mild decreased PP about the right upper and lower face, diffusely about the left upper and lower face, per neurosurgery notes. The neuro-ophthalmologic exam was unremarkable, per Neuro-ophthalmology.,COURSE:, She underwent Cerebral Angiography on 1/8/91. This revealed a 15x17x20mm LICA paraclinoid/ophthalmic artery aneurysm and a 5x7mm RICA paraclinoid/ophthalmic artery aneurysm. On 1/16/91 she underwent a left frontotemporal craniotomy and exploration of the left aneurysm. The aneurysm neck went into the cavernous sinus and was unclippable so it was wrapped. She has complained of headaches since.\",\n          \"EXAM: , Digital screening mammogram.,HISTORY:,  51-year-old female presents for screening mammography.  Patient denies personal history of breast cancer.  Breast cancer was reported in her maternal aunt.,TECHNIQUE:,  Craniocaudal and mediolateral oblique projections of bilateral breasts were obtained on mm/dd/yy.  Comparison is made with the previous performed on mm/dd/yy. iCAD Second Look proprietary software was utilized.,FINDINGS:  ,The breasts demonstrate a mixture of adipose and fibroglandular elements.  Composition appears similar.  Multiple tiny punctate benign-appearing calcifications are visualized bilaterally.  No dominant mass, areas of architecture distortion, or malignant-type calcifications are seen.  Skin overlying both breasts is unremarkable.,IMPRESSION: , Stable and benign mammographic findings.  Continued yearly mammographic screening is recommended.,BIRADS Classification 2 - Benign,MAMMOGRAPHY INFORMATION:,1.  A certain percentage of cancers, probably 10% to 15%, will not be identified by mammography.,2.  Lack of radiographic evidence of malignancy should not delay a biopsy if a clinically suspicious mass is present.,3.  These images were obtained with FDA-approved digital mammography equipment, and iCAD SecondLook Software Version 7.2 was utilized.\",\n          \"REASON FOR CONSULTATION: , Pneumatosis coli in the cecum.,HISTORY OF PRESENT ILLNESS:  ,The patient is an 87-year-old gentleman who was admitted on 10/27/07 with weakness and tiredness with aspiration pneumonia.  The patient is very difficult to obtain information from; however, he appears to be having frequent nausea and vomiting with an aspiration pneumonia and abdominal discomfort.  In addition, this hospitalization, he has undergone an upper endoscopy, which found a small ulcer after dropping his hematocrit and becoming anemic.  He had a CT scan on Friday, 11/02/07, which apparently showed pneumatosis and his cecum worrisome for ischemic colitis as well as bilateral hydronephrosis and multiple liver lesions, which could be metastatic disease versus cysts.  In discussions with the patient, he had multiple bowel movements yesterday and is currently passing flatus and has epigastric pain.,PAST MEDICAL HISTORY:  ,Obtained from the medical chart.  Chronic obstructive pulmonary disease, history of pneumonia, and aspiration pneumonia, osteoporosis, alcoholism, microcytic anemia.,MEDICATIONS: , Per his current medical chart.,ALLERGIES: , NO KNOWN DRUG ALLERGIES.,SOCIAL HISTORY: , The patient had a long history of smoking but quit many years ago.  He does have chronic alcohol use.,PHYSICAL EXAMINATION:,GENERAL:  A very thin white male who is dyspneic and having difficulty breathing at the moment.,VITAL SIGNS:  Afebrile.  Heart rate in the 100s to 120s at times with atrial fibrillation.  Respiratory rate is 17-20.  Blood pressure 130s-150s/60s-70s.,NECK:  Soft and supple, full range of motion.,HEART:  Regular.,ABDOMEN:  Distended with tenderness mainly in the upper abdomen but very difficult to localize due to his difficulty providing information.  He does appear to have tenderness but does not have rebound and does not have peritoneal signs.,DIAGNOSTICS: , A CT scan done on 11/02/07 shows pneumatosis in the cecum with an enlarged cecum filled with stool and air fluid levels with chronically dilated small bowel.,ASSESSMENT: , Possible ischemic cecum with possible metastatic disease, bilateral hydronephrosis on atrial fibrillation, aspiration pneumonia, chronic alcohol abuse, acute renal failure, COPD, anemia with gastric ulcer.,PLAN: , The patient appears to have pneumatosis from a CT scan 2 days ago.  Nothing was done about it at that time as the patient appeared to not be symptomatic, but he continues to have nausea and vomiting with abdominal pain, but the fact that pneumatosis was found 2 days ago and the patient has survived this long indicates this may be a benign process at the moment, and I would recommend getting a repeat CT scan to assess it further to see if there is worsening of pneumatosis versus resolution to further evaluate the liver lesions and make decisions regarding planning at that time.  The patient has frequent desaturations secondary to his aspiration pneumonia, and any surgical procedure or any surgical intervention would certainly require intubation, which would then necessitate long-term ventilator care as he is not someone who would be able to come off of a ventilator very well in his current state.  So we will look at the CT scan and make decisions based on the findings as far as that is concerned.\"\n        ],\n        \"semantic_type\": \"\",\n        \"description\": \"\"\n      }\n    }\n  ]\n}"
            }
          },
          "metadata": {},
          "execution_count": 11
        }
      ]
    },
    {
      "cell_type": "code",
      "source": [
        "medical_reports.info()"
      ],
      "metadata": {
        "colab": {
          "base_uri": "https://localhost:8080/"
        },
        "id": "6ABrX3PwQVbV",
        "outputId": "275cb3a4-b06c-4b8d-d514-03c68f772afe"
      },
      "execution_count": null,
      "outputs": [
        {
          "output_type": "stream",
          "name": "stdout",
          "text": [
            "<class 'pandas.core.frame.DataFrame'>\n",
            "RangeIndex: 2179 entries, 0 to 2178\n",
            "Data columns (total 2 columns):\n",
            " #   Column             Non-Null Count  Dtype \n",
            "---  ------             --------------  ----- \n",
            " 0   medical_specialty  2179 non-null   object\n",
            " 1   report             2179 non-null   object\n",
            "dtypes: object(2)\n",
            "memory usage: 34.2+ KB\n"
          ]
        }
      ]
    },
    {
      "cell_type": "code",
      "source": [
        "medical_reports.groupby('medical_specialty').count()"
      ],
      "metadata": {
        "colab": {
          "base_uri": "https://localhost:8080/",
          "height": 237
        },
        "id": "W9Fdq4quQohK",
        "outputId": "98ba30a5-d7d3-4bda-d454-cd9b54e9472f"
      },
      "execution_count": null,
      "outputs": [
        {
          "output_type": "execute_result",
          "data": {
            "text/plain": [
              "                            report\n",
              "medical_specialty                 \n",
              "Cardiovascular / Pulmonary     371\n",
              "Gastroenterology               224\n",
              "Neurology                      223\n",
              "Radiology                      273\n",
              "Surgery                       1088"
            ],
            "text/html": [
              "\n",
              "  <div id=\"df-333c6ff6-8b93-4382-a8ef-736be7650445\" class=\"colab-df-container\">\n",
              "    <div>\n",
              "<style scoped>\n",
              "    .dataframe tbody tr th:only-of-type {\n",
              "        vertical-align: middle;\n",
              "    }\n",
              "\n",
              "    .dataframe tbody tr th {\n",
              "        vertical-align: top;\n",
              "    }\n",
              "\n",
              "    .dataframe thead th {\n",
              "        text-align: right;\n",
              "    }\n",
              "</style>\n",
              "<table border=\"1\" class=\"dataframe\">\n",
              "  <thead>\n",
              "    <tr style=\"text-align: right;\">\n",
              "      <th></th>\n",
              "      <th>report</th>\n",
              "    </tr>\n",
              "    <tr>\n",
              "      <th>medical_specialty</th>\n",
              "      <th></th>\n",
              "    </tr>\n",
              "  </thead>\n",
              "  <tbody>\n",
              "    <tr>\n",
              "      <th>Cardiovascular / Pulmonary</th>\n",
              "      <td>371</td>\n",
              "    </tr>\n",
              "    <tr>\n",
              "      <th>Gastroenterology</th>\n",
              "      <td>224</td>\n",
              "    </tr>\n",
              "    <tr>\n",
              "      <th>Neurology</th>\n",
              "      <td>223</td>\n",
              "    </tr>\n",
              "    <tr>\n",
              "      <th>Radiology</th>\n",
              "      <td>273</td>\n",
              "    </tr>\n",
              "    <tr>\n",
              "      <th>Surgery</th>\n",
              "      <td>1088</td>\n",
              "    </tr>\n",
              "  </tbody>\n",
              "</table>\n",
              "</div>\n",
              "    <div class=\"colab-df-buttons\">\n",
              "\n",
              "  <div class=\"colab-df-container\">\n",
              "    <button class=\"colab-df-convert\" onclick=\"convertToInteractive('df-333c6ff6-8b93-4382-a8ef-736be7650445')\"\n",
              "            title=\"Convert this dataframe to an interactive table.\"\n",
              "            style=\"display:none;\">\n",
              "\n",
              "  <svg xmlns=\"http://www.w3.org/2000/svg\" height=\"24px\" viewBox=\"0 -960 960 960\">\n",
              "    <path d=\"M120-120v-720h720v720H120Zm60-500h600v-160H180v160Zm220 220h160v-160H400v160Zm0 220h160v-160H400v160ZM180-400h160v-160H180v160Zm440 0h160v-160H620v160ZM180-180h160v-160H180v160Zm440 0h160v-160H620v160Z\"/>\n",
              "  </svg>\n",
              "    </button>\n",
              "\n",
              "  <style>\n",
              "    .colab-df-container {\n",
              "      display:flex;\n",
              "      gap: 12px;\n",
              "    }\n",
              "\n",
              "    .colab-df-convert {\n",
              "      background-color: #E8F0FE;\n",
              "      border: none;\n",
              "      border-radius: 50%;\n",
              "      cursor: pointer;\n",
              "      display: none;\n",
              "      fill: #1967D2;\n",
              "      height: 32px;\n",
              "      padding: 0 0 0 0;\n",
              "      width: 32px;\n",
              "    }\n",
              "\n",
              "    .colab-df-convert:hover {\n",
              "      background-color: #E2EBFA;\n",
              "      box-shadow: 0px 1px 2px rgba(60, 64, 67, 0.3), 0px 1px 3px 1px rgba(60, 64, 67, 0.15);\n",
              "      fill: #174EA6;\n",
              "    }\n",
              "\n",
              "    .colab-df-buttons div {\n",
              "      margin-bottom: 4px;\n",
              "    }\n",
              "\n",
              "    [theme=dark] .colab-df-convert {\n",
              "      background-color: #3B4455;\n",
              "      fill: #D2E3FC;\n",
              "    }\n",
              "\n",
              "    [theme=dark] .colab-df-convert:hover {\n",
              "      background-color: #434B5C;\n",
              "      box-shadow: 0px 1px 3px 1px rgba(0, 0, 0, 0.15);\n",
              "      filter: drop-shadow(0px 1px 2px rgba(0, 0, 0, 0.3));\n",
              "      fill: #FFFFFF;\n",
              "    }\n",
              "  </style>\n",
              "\n",
              "    <script>\n",
              "      const buttonEl =\n",
              "        document.querySelector('#df-333c6ff6-8b93-4382-a8ef-736be7650445 button.colab-df-convert');\n",
              "      buttonEl.style.display =\n",
              "        google.colab.kernel.accessAllowed ? 'block' : 'none';\n",
              "\n",
              "      async function convertToInteractive(key) {\n",
              "        const element = document.querySelector('#df-333c6ff6-8b93-4382-a8ef-736be7650445');\n",
              "        const dataTable =\n",
              "          await google.colab.kernel.invokeFunction('convertToInteractive',\n",
              "                                                    [key], {});\n",
              "        if (!dataTable) return;\n",
              "\n",
              "        const docLinkHtml = 'Like what you see? Visit the ' +\n",
              "          '<a target=\"_blank\" href=https://colab.research.google.com/notebooks/data_table.ipynb>data table notebook</a>'\n",
              "          + ' to learn more about interactive tables.';\n",
              "        element.innerHTML = '';\n",
              "        dataTable['output_type'] = 'display_data';\n",
              "        await google.colab.output.renderOutput(dataTable, element);\n",
              "        const docLink = document.createElement('div');\n",
              "        docLink.innerHTML = docLinkHtml;\n",
              "        element.appendChild(docLink);\n",
              "      }\n",
              "    </script>\n",
              "  </div>\n",
              "\n",
              "\n",
              "    <div id=\"df-a0cd2869-7ab9-4265-9de8-e02b6dec2f7e\">\n",
              "      <button class=\"colab-df-quickchart\" onclick=\"quickchart('df-a0cd2869-7ab9-4265-9de8-e02b6dec2f7e')\"\n",
              "                title=\"Suggest charts\"\n",
              "                style=\"display:none;\">\n",
              "\n",
              "<svg xmlns=\"http://www.w3.org/2000/svg\" height=\"24px\"viewBox=\"0 0 24 24\"\n",
              "     width=\"24px\">\n",
              "    <g>\n",
              "        <path d=\"M19 3H5c-1.1 0-2 .9-2 2v14c0 1.1.9 2 2 2h14c1.1 0 2-.9 2-2V5c0-1.1-.9-2-2-2zM9 17H7v-7h2v7zm4 0h-2V7h2v10zm4 0h-2v-4h2v4z\"/>\n",
              "    </g>\n",
              "</svg>\n",
              "      </button>\n",
              "\n",
              "<style>\n",
              "  .colab-df-quickchart {\n",
              "      --bg-color: #E8F0FE;\n",
              "      --fill-color: #1967D2;\n",
              "      --hover-bg-color: #E2EBFA;\n",
              "      --hover-fill-color: #174EA6;\n",
              "      --disabled-fill-color: #AAA;\n",
              "      --disabled-bg-color: #DDD;\n",
              "  }\n",
              "\n",
              "  [theme=dark] .colab-df-quickchart {\n",
              "      --bg-color: #3B4455;\n",
              "      --fill-color: #D2E3FC;\n",
              "      --hover-bg-color: #434B5C;\n",
              "      --hover-fill-color: #FFFFFF;\n",
              "      --disabled-bg-color: #3B4455;\n",
              "      --disabled-fill-color: #666;\n",
              "  }\n",
              "\n",
              "  .colab-df-quickchart {\n",
              "    background-color: var(--bg-color);\n",
              "    border: none;\n",
              "    border-radius: 50%;\n",
              "    cursor: pointer;\n",
              "    display: none;\n",
              "    fill: var(--fill-color);\n",
              "    height: 32px;\n",
              "    padding: 0;\n",
              "    width: 32px;\n",
              "  }\n",
              "\n",
              "  .colab-df-quickchart:hover {\n",
              "    background-color: var(--hover-bg-color);\n",
              "    box-shadow: 0 1px 2px rgba(60, 64, 67, 0.3), 0 1px 3px 1px rgba(60, 64, 67, 0.15);\n",
              "    fill: var(--button-hover-fill-color);\n",
              "  }\n",
              "\n",
              "  .colab-df-quickchart-complete:disabled,\n",
              "  .colab-df-quickchart-complete:disabled:hover {\n",
              "    background-color: var(--disabled-bg-color);\n",
              "    fill: var(--disabled-fill-color);\n",
              "    box-shadow: none;\n",
              "  }\n",
              "\n",
              "  .colab-df-spinner {\n",
              "    border: 2px solid var(--fill-color);\n",
              "    border-color: transparent;\n",
              "    border-bottom-color: var(--fill-color);\n",
              "    animation:\n",
              "      spin 1s steps(1) infinite;\n",
              "  }\n",
              "\n",
              "  @keyframes spin {\n",
              "    0% {\n",
              "      border-color: transparent;\n",
              "      border-bottom-color: var(--fill-color);\n",
              "      border-left-color: var(--fill-color);\n",
              "    }\n",
              "    20% {\n",
              "      border-color: transparent;\n",
              "      border-left-color: var(--fill-color);\n",
              "      border-top-color: var(--fill-color);\n",
              "    }\n",
              "    30% {\n",
              "      border-color: transparent;\n",
              "      border-left-color: var(--fill-color);\n",
              "      border-top-color: var(--fill-color);\n",
              "      border-right-color: var(--fill-color);\n",
              "    }\n",
              "    40% {\n",
              "      border-color: transparent;\n",
              "      border-right-color: var(--fill-color);\n",
              "      border-top-color: var(--fill-color);\n",
              "    }\n",
              "    60% {\n",
              "      border-color: transparent;\n",
              "      border-right-color: var(--fill-color);\n",
              "    }\n",
              "    80% {\n",
              "      border-color: transparent;\n",
              "      border-right-color: var(--fill-color);\n",
              "      border-bottom-color: var(--fill-color);\n",
              "    }\n",
              "    90% {\n",
              "      border-color: transparent;\n",
              "      border-bottom-color: var(--fill-color);\n",
              "    }\n",
              "  }\n",
              "</style>\n",
              "\n",
              "      <script>\n",
              "        async function quickchart(key) {\n",
              "          const quickchartButtonEl =\n",
              "            document.querySelector('#' + key + ' button');\n",
              "          quickchartButtonEl.disabled = true;  // To prevent multiple clicks.\n",
              "          quickchartButtonEl.classList.add('colab-df-spinner');\n",
              "          try {\n",
              "            const charts = await google.colab.kernel.invokeFunction(\n",
              "                'suggestCharts', [key], {});\n",
              "          } catch (error) {\n",
              "            console.error('Error during call to suggestCharts:', error);\n",
              "          }\n",
              "          quickchartButtonEl.classList.remove('colab-df-spinner');\n",
              "          quickchartButtonEl.classList.add('colab-df-quickchart-complete');\n",
              "        }\n",
              "        (() => {\n",
              "          let quickchartButtonEl =\n",
              "            document.querySelector('#df-a0cd2869-7ab9-4265-9de8-e02b6dec2f7e button');\n",
              "          quickchartButtonEl.style.display =\n",
              "            google.colab.kernel.accessAllowed ? 'block' : 'none';\n",
              "        })();\n",
              "      </script>\n",
              "    </div>\n",
              "\n",
              "    </div>\n",
              "  </div>\n"
            ],
            "application/vnd.google.colaboratory.intrinsic+json": {
              "type": "dataframe",
              "summary": "{\n  \"name\": \"medical_reports\",\n  \"rows\": 5,\n  \"fields\": [\n    {\n      \"column\": \"medical_specialty\",\n      \"properties\": {\n        \"dtype\": \"string\",\n        \"num_unique_values\": 5,\n        \"samples\": [\n          \"Gastroenterology\",\n          \"Surgery\",\n          \"Neurology\"\n        ],\n        \"semantic_type\": \"\",\n        \"description\": \"\"\n      }\n    },\n    {\n      \"column\": \"report\",\n      \"properties\": {\n        \"dtype\": \"number\",\n        \"std\": 369,\n        \"min\": 223,\n        \"max\": 1088,\n        \"num_unique_values\": 5,\n        \"samples\": [\n          224,\n          1088,\n          223\n        ],\n        \"semantic_type\": \"\",\n        \"description\": \"\"\n      }\n    }\n  ]\n}"
            }
          },
          "metadata": {},
          "execution_count": 13
        }
      ]
    },
    {
      "cell_type": "code",
      "source": [
        "grouped_data=medical_reports.groupby('medical_specialty').sample(110,random_state=42)"
      ],
      "metadata": {
        "id": "rmNuNSWyRxXT"
      },
      "execution_count": null,
      "outputs": []
    },
    {
      "cell_type": "code",
      "source": [
        "grouped_data['medical_specialty'].value_counts()"
      ],
      "metadata": {
        "colab": {
          "base_uri": "https://localhost:8080/",
          "height": 272
        },
        "id": "WMzcFHqvR_TI",
        "outputId": "f655c98d-fd33-45fb-ca24-dd683ea16892"
      },
      "execution_count": null,
      "outputs": [
        {
          "output_type": "execute_result",
          "data": {
            "text/plain": [
              "medical_specialty\n",
              "Cardiovascular / Pulmonary    110\n",
              "Gastroenterology              110\n",
              "Neurology                     110\n",
              "Radiology                     110\n",
              "Surgery                       110\n",
              "Name: count, dtype: int64"
            ],
            "text/html": [
              "<div>\n",
              "<style scoped>\n",
              "    .dataframe tbody tr th:only-of-type {\n",
              "        vertical-align: middle;\n",
              "    }\n",
              "\n",
              "    .dataframe tbody tr th {\n",
              "        vertical-align: top;\n",
              "    }\n",
              "\n",
              "    .dataframe thead th {\n",
              "        text-align: right;\n",
              "    }\n",
              "</style>\n",
              "<table border=\"1\" class=\"dataframe\">\n",
              "  <thead>\n",
              "    <tr style=\"text-align: right;\">\n",
              "      <th></th>\n",
              "      <th>count</th>\n",
              "    </tr>\n",
              "    <tr>\n",
              "      <th>medical_specialty</th>\n",
              "      <th></th>\n",
              "    </tr>\n",
              "  </thead>\n",
              "  <tbody>\n",
              "    <tr>\n",
              "      <th>Cardiovascular / Pulmonary</th>\n",
              "      <td>110</td>\n",
              "    </tr>\n",
              "    <tr>\n",
              "      <th>Gastroenterology</th>\n",
              "      <td>110</td>\n",
              "    </tr>\n",
              "    <tr>\n",
              "      <th>Neurology</th>\n",
              "      <td>110</td>\n",
              "    </tr>\n",
              "    <tr>\n",
              "      <th>Radiology</th>\n",
              "      <td>110</td>\n",
              "    </tr>\n",
              "    <tr>\n",
              "      <th>Surgery</th>\n",
              "      <td>110</td>\n",
              "    </tr>\n",
              "  </tbody>\n",
              "</table>\n",
              "</div><br><label><b>dtype:</b> int64</label>"
            ]
          },
          "metadata": {},
          "execution_count": 16
        }
      ]
    },
    {
      "cell_type": "code",
      "source": [
        "val_test_data=grouped_data.groupby('medical_specialty').sample(10,random_state=42)"
      ],
      "metadata": {
        "id": "Qnty9A40SO6K"
      },
      "execution_count": null,
      "outputs": []
    },
    {
      "cell_type": "code",
      "source": [
        "val=val_test_data.groupby('medical_specialty').head(5)\n",
        "test=val_test_data.groupby('medical_specialty').tail(5)"
      ],
      "metadata": {
        "id": "ev1PfA00SSoQ"
      },
      "execution_count": null,
      "outputs": []
    },
    {
      "cell_type": "code",
      "source": [
        "train=grouped_data[~grouped_data.index.isin(val_test_data.index)]"
      ],
      "metadata": {
        "id": "zIzA2gMnS0Th"
      },
      "execution_count": null,
      "outputs": []
    },
    {
      "cell_type": "code",
      "source": [
        "len(train)"
      ],
      "metadata": {
        "colab": {
          "base_uri": "https://localhost:8080/"
        },
        "id": "5f9mei9YTCil",
        "outputId": "ff2698ca-1273-4bf1-bc05-a41d9f3e7443"
      },
      "execution_count": null,
      "outputs": [
        {
          "output_type": "execute_result",
          "data": {
            "text/plain": [
              "500"
            ]
          },
          "metadata": {},
          "execution_count": 21
        }
      ]
    },
    {
      "cell_type": "code",
      "source": [
        "train"
      ],
      "metadata": {
        "colab": {
          "base_uri": "https://localhost:8080/",
          "height": 423
        },
        "id": "XjjEEwedTTV5",
        "outputId": "a8768f08-49f8-448a-a3a1-e99b2d46ddaa"
      },
      "execution_count": null,
      "outputs": [
        {
          "output_type": "execute_result",
          "data": {
            "text/plain": [
              "               medical_specialty  \\\n",
              "2135  Cardiovascular / Pulmonary   \n",
              "1841  Cardiovascular / Pulmonary   \n",
              "1823  Cardiovascular / Pulmonary   \n",
              "2122  Cardiovascular / Pulmonary   \n",
              "2047  Cardiovascular / Pulmonary   \n",
              "...                          ...   \n",
              "700                      Surgery   \n",
              "74                       Surgery   \n",
              "470                      Surgery   \n",
              "880                      Surgery   \n",
              "357                      Surgery   \n",
              "\n",
              "                                                 report  \n",
              "2135  PREOPERATIVE DIAGNOSES:,1.  Lumbar osteomyelit...  \n",
              "1841  PREOPERATIVE DIAGNOSES:,1.  Non-small-cell car...  \n",
              "1823  PROCEDURE: , Urgent cardiac catheterization wi...  \n",
              "2122  PROCEDURE:,  Left Cardiac Catheterization, Lef...  \n",
              "2047  EXAM: , Coronary artery CTA with calcium scori...  \n",
              "...                                                 ...  \n",
              "700   HISTORY OF PRESENT ILLNESS:,  Briefly, this is...  \n",
              "74    PREOPERATIVE DIAGNOSIS:  ,Thyroid goiter with ...  \n",
              "470   PREOPERATIVE DIAGNOSIS:,1.  Cholelithiasis.,2....  \n",
              "880   PREOPERATIVE DIAGNOSIS: , Cataract, left eye.,...  \n",
              "357   PREOPERATIVE DIAGNOSES:  ,Tympanic membrane at...  \n",
              "\n",
              "[500 rows x 2 columns]"
            ],
            "text/html": [
              "\n",
              "  <div id=\"df-e89340df-3c29-4d48-a40e-cece8a598d9b\" class=\"colab-df-container\">\n",
              "    <div>\n",
              "<style scoped>\n",
              "    .dataframe tbody tr th:only-of-type {\n",
              "        vertical-align: middle;\n",
              "    }\n",
              "\n",
              "    .dataframe tbody tr th {\n",
              "        vertical-align: top;\n",
              "    }\n",
              "\n",
              "    .dataframe thead th {\n",
              "        text-align: right;\n",
              "    }\n",
              "</style>\n",
              "<table border=\"1\" class=\"dataframe\">\n",
              "  <thead>\n",
              "    <tr style=\"text-align: right;\">\n",
              "      <th></th>\n",
              "      <th>medical_specialty</th>\n",
              "      <th>report</th>\n",
              "    </tr>\n",
              "  </thead>\n",
              "  <tbody>\n",
              "    <tr>\n",
              "      <th>2135</th>\n",
              "      <td>Cardiovascular / Pulmonary</td>\n",
              "      <td>PREOPERATIVE DIAGNOSES:,1.  Lumbar osteomyelit...</td>\n",
              "    </tr>\n",
              "    <tr>\n",
              "      <th>1841</th>\n",
              "      <td>Cardiovascular / Pulmonary</td>\n",
              "      <td>PREOPERATIVE DIAGNOSES:,1.  Non-small-cell car...</td>\n",
              "    </tr>\n",
              "    <tr>\n",
              "      <th>1823</th>\n",
              "      <td>Cardiovascular / Pulmonary</td>\n",
              "      <td>PROCEDURE: , Urgent cardiac catheterization wi...</td>\n",
              "    </tr>\n",
              "    <tr>\n",
              "      <th>2122</th>\n",
              "      <td>Cardiovascular / Pulmonary</td>\n",
              "      <td>PROCEDURE:,  Left Cardiac Catheterization, Lef...</td>\n",
              "    </tr>\n",
              "    <tr>\n",
              "      <th>2047</th>\n",
              "      <td>Cardiovascular / Pulmonary</td>\n",
              "      <td>EXAM: , Coronary artery CTA with calcium scori...</td>\n",
              "    </tr>\n",
              "    <tr>\n",
              "      <th>...</th>\n",
              "      <td>...</td>\n",
              "      <td>...</td>\n",
              "    </tr>\n",
              "    <tr>\n",
              "      <th>700</th>\n",
              "      <td>Surgery</td>\n",
              "      <td>HISTORY OF PRESENT ILLNESS:,  Briefly, this is...</td>\n",
              "    </tr>\n",
              "    <tr>\n",
              "      <th>74</th>\n",
              "      <td>Surgery</td>\n",
              "      <td>PREOPERATIVE DIAGNOSIS:  ,Thyroid goiter with ...</td>\n",
              "    </tr>\n",
              "    <tr>\n",
              "      <th>470</th>\n",
              "      <td>Surgery</td>\n",
              "      <td>PREOPERATIVE DIAGNOSIS:,1.  Cholelithiasis.,2....</td>\n",
              "    </tr>\n",
              "    <tr>\n",
              "      <th>880</th>\n",
              "      <td>Surgery</td>\n",
              "      <td>PREOPERATIVE DIAGNOSIS: , Cataract, left eye.,...</td>\n",
              "    </tr>\n",
              "    <tr>\n",
              "      <th>357</th>\n",
              "      <td>Surgery</td>\n",
              "      <td>PREOPERATIVE DIAGNOSES:  ,Tympanic membrane at...</td>\n",
              "    </tr>\n",
              "  </tbody>\n",
              "</table>\n",
              "<p>500 rows × 2 columns</p>\n",
              "</div>\n",
              "    <div class=\"colab-df-buttons\">\n",
              "\n",
              "  <div class=\"colab-df-container\">\n",
              "    <button class=\"colab-df-convert\" onclick=\"convertToInteractive('df-e89340df-3c29-4d48-a40e-cece8a598d9b')\"\n",
              "            title=\"Convert this dataframe to an interactive table.\"\n",
              "            style=\"display:none;\">\n",
              "\n",
              "  <svg xmlns=\"http://www.w3.org/2000/svg\" height=\"24px\" viewBox=\"0 -960 960 960\">\n",
              "    <path d=\"M120-120v-720h720v720H120Zm60-500h600v-160H180v160Zm220 220h160v-160H400v160Zm0 220h160v-160H400v160ZM180-400h160v-160H180v160Zm440 0h160v-160H620v160ZM180-180h160v-160H180v160Zm440 0h160v-160H620v160Z\"/>\n",
              "  </svg>\n",
              "    </button>\n",
              "\n",
              "  <style>\n",
              "    .colab-df-container {\n",
              "      display:flex;\n",
              "      gap: 12px;\n",
              "    }\n",
              "\n",
              "    .colab-df-convert {\n",
              "      background-color: #E8F0FE;\n",
              "      border: none;\n",
              "      border-radius: 50%;\n",
              "      cursor: pointer;\n",
              "      display: none;\n",
              "      fill: #1967D2;\n",
              "      height: 32px;\n",
              "      padding: 0 0 0 0;\n",
              "      width: 32px;\n",
              "    }\n",
              "\n",
              "    .colab-df-convert:hover {\n",
              "      background-color: #E2EBFA;\n",
              "      box-shadow: 0px 1px 2px rgba(60, 64, 67, 0.3), 0px 1px 3px 1px rgba(60, 64, 67, 0.15);\n",
              "      fill: #174EA6;\n",
              "    }\n",
              "\n",
              "    .colab-df-buttons div {\n",
              "      margin-bottom: 4px;\n",
              "    }\n",
              "\n",
              "    [theme=dark] .colab-df-convert {\n",
              "      background-color: #3B4455;\n",
              "      fill: #D2E3FC;\n",
              "    }\n",
              "\n",
              "    [theme=dark] .colab-df-convert:hover {\n",
              "      background-color: #434B5C;\n",
              "      box-shadow: 0px 1px 3px 1px rgba(0, 0, 0, 0.15);\n",
              "      filter: drop-shadow(0px 1px 2px rgba(0, 0, 0, 0.3));\n",
              "      fill: #FFFFFF;\n",
              "    }\n",
              "  </style>\n",
              "\n",
              "    <script>\n",
              "      const buttonEl =\n",
              "        document.querySelector('#df-e89340df-3c29-4d48-a40e-cece8a598d9b button.colab-df-convert');\n",
              "      buttonEl.style.display =\n",
              "        google.colab.kernel.accessAllowed ? 'block' : 'none';\n",
              "\n",
              "      async function convertToInteractive(key) {\n",
              "        const element = document.querySelector('#df-e89340df-3c29-4d48-a40e-cece8a598d9b');\n",
              "        const dataTable =\n",
              "          await google.colab.kernel.invokeFunction('convertToInteractive',\n",
              "                                                    [key], {});\n",
              "        if (!dataTable) return;\n",
              "\n",
              "        const docLinkHtml = 'Like what you see? Visit the ' +\n",
              "          '<a target=\"_blank\" href=https://colab.research.google.com/notebooks/data_table.ipynb>data table notebook</a>'\n",
              "          + ' to learn more about interactive tables.';\n",
              "        element.innerHTML = '';\n",
              "        dataTable['output_type'] = 'display_data';\n",
              "        await google.colab.output.renderOutput(dataTable, element);\n",
              "        const docLink = document.createElement('div');\n",
              "        docLink.innerHTML = docLinkHtml;\n",
              "        element.appendChild(docLink);\n",
              "      }\n",
              "    </script>\n",
              "  </div>\n",
              "\n",
              "\n",
              "    <div id=\"df-61f71123-2769-457f-a883-a884e2d21d7f\">\n",
              "      <button class=\"colab-df-quickchart\" onclick=\"quickchart('df-61f71123-2769-457f-a883-a884e2d21d7f')\"\n",
              "                title=\"Suggest charts\"\n",
              "                style=\"display:none;\">\n",
              "\n",
              "<svg xmlns=\"http://www.w3.org/2000/svg\" height=\"24px\"viewBox=\"0 0 24 24\"\n",
              "     width=\"24px\">\n",
              "    <g>\n",
              "        <path d=\"M19 3H5c-1.1 0-2 .9-2 2v14c0 1.1.9 2 2 2h14c1.1 0 2-.9 2-2V5c0-1.1-.9-2-2-2zM9 17H7v-7h2v7zm4 0h-2V7h2v10zm4 0h-2v-4h2v4z\"/>\n",
              "    </g>\n",
              "</svg>\n",
              "      </button>\n",
              "\n",
              "<style>\n",
              "  .colab-df-quickchart {\n",
              "      --bg-color: #E8F0FE;\n",
              "      --fill-color: #1967D2;\n",
              "      --hover-bg-color: #E2EBFA;\n",
              "      --hover-fill-color: #174EA6;\n",
              "      --disabled-fill-color: #AAA;\n",
              "      --disabled-bg-color: #DDD;\n",
              "  }\n",
              "\n",
              "  [theme=dark] .colab-df-quickchart {\n",
              "      --bg-color: #3B4455;\n",
              "      --fill-color: #D2E3FC;\n",
              "      --hover-bg-color: #434B5C;\n",
              "      --hover-fill-color: #FFFFFF;\n",
              "      --disabled-bg-color: #3B4455;\n",
              "      --disabled-fill-color: #666;\n",
              "  }\n",
              "\n",
              "  .colab-df-quickchart {\n",
              "    background-color: var(--bg-color);\n",
              "    border: none;\n",
              "    border-radius: 50%;\n",
              "    cursor: pointer;\n",
              "    display: none;\n",
              "    fill: var(--fill-color);\n",
              "    height: 32px;\n",
              "    padding: 0;\n",
              "    width: 32px;\n",
              "  }\n",
              "\n",
              "  .colab-df-quickchart:hover {\n",
              "    background-color: var(--hover-bg-color);\n",
              "    box-shadow: 0 1px 2px rgba(60, 64, 67, 0.3), 0 1px 3px 1px rgba(60, 64, 67, 0.15);\n",
              "    fill: var(--button-hover-fill-color);\n",
              "  }\n",
              "\n",
              "  .colab-df-quickchart-complete:disabled,\n",
              "  .colab-df-quickchart-complete:disabled:hover {\n",
              "    background-color: var(--disabled-bg-color);\n",
              "    fill: var(--disabled-fill-color);\n",
              "    box-shadow: none;\n",
              "  }\n",
              "\n",
              "  .colab-df-spinner {\n",
              "    border: 2px solid var(--fill-color);\n",
              "    border-color: transparent;\n",
              "    border-bottom-color: var(--fill-color);\n",
              "    animation:\n",
              "      spin 1s steps(1) infinite;\n",
              "  }\n",
              "\n",
              "  @keyframes spin {\n",
              "    0% {\n",
              "      border-color: transparent;\n",
              "      border-bottom-color: var(--fill-color);\n",
              "      border-left-color: var(--fill-color);\n",
              "    }\n",
              "    20% {\n",
              "      border-color: transparent;\n",
              "      border-left-color: var(--fill-color);\n",
              "      border-top-color: var(--fill-color);\n",
              "    }\n",
              "    30% {\n",
              "      border-color: transparent;\n",
              "      border-left-color: var(--fill-color);\n",
              "      border-top-color: var(--fill-color);\n",
              "      border-right-color: var(--fill-color);\n",
              "    }\n",
              "    40% {\n",
              "      border-color: transparent;\n",
              "      border-right-color: var(--fill-color);\n",
              "      border-top-color: var(--fill-color);\n",
              "    }\n",
              "    60% {\n",
              "      border-color: transparent;\n",
              "      border-right-color: var(--fill-color);\n",
              "    }\n",
              "    80% {\n",
              "      border-color: transparent;\n",
              "      border-right-color: var(--fill-color);\n",
              "      border-bottom-color: var(--fill-color);\n",
              "    }\n",
              "    90% {\n",
              "      border-color: transparent;\n",
              "      border-bottom-color: var(--fill-color);\n",
              "    }\n",
              "  }\n",
              "</style>\n",
              "\n",
              "      <script>\n",
              "        async function quickchart(key) {\n",
              "          const quickchartButtonEl =\n",
              "            document.querySelector('#' + key + ' button');\n",
              "          quickchartButtonEl.disabled = true;  // To prevent multiple clicks.\n",
              "          quickchartButtonEl.classList.add('colab-df-spinner');\n",
              "          try {\n",
              "            const charts = await google.colab.kernel.invokeFunction(\n",
              "                'suggestCharts', [key], {});\n",
              "          } catch (error) {\n",
              "            console.error('Error during call to suggestCharts:', error);\n",
              "          }\n",
              "          quickchartButtonEl.classList.remove('colab-df-spinner');\n",
              "          quickchartButtonEl.classList.add('colab-df-quickchart-complete');\n",
              "        }\n",
              "        (() => {\n",
              "          let quickchartButtonEl =\n",
              "            document.querySelector('#df-61f71123-2769-457f-a883-a884e2d21d7f button');\n",
              "          quickchartButtonEl.style.display =\n",
              "            google.colab.kernel.accessAllowed ? 'block' : 'none';\n",
              "        })();\n",
              "      </script>\n",
              "    </div>\n",
              "\n",
              "  <div id=\"id_7a1d2f0e-2f04-4e8a-8c1a-ea52bd5d736c\">\n",
              "    <style>\n",
              "      .colab-df-generate {\n",
              "        background-color: #E8F0FE;\n",
              "        border: none;\n",
              "        border-radius: 50%;\n",
              "        cursor: pointer;\n",
              "        display: none;\n",
              "        fill: #1967D2;\n",
              "        height: 32px;\n",
              "        padding: 0 0 0 0;\n",
              "        width: 32px;\n",
              "      }\n",
              "\n",
              "      .colab-df-generate:hover {\n",
              "        background-color: #E2EBFA;\n",
              "        box-shadow: 0px 1px 2px rgba(60, 64, 67, 0.3), 0px 1px 3px 1px rgba(60, 64, 67, 0.15);\n",
              "        fill: #174EA6;\n",
              "      }\n",
              "\n",
              "      [theme=dark] .colab-df-generate {\n",
              "        background-color: #3B4455;\n",
              "        fill: #D2E3FC;\n",
              "      }\n",
              "\n",
              "      [theme=dark] .colab-df-generate:hover {\n",
              "        background-color: #434B5C;\n",
              "        box-shadow: 0px 1px 3px 1px rgba(0, 0, 0, 0.15);\n",
              "        filter: drop-shadow(0px 1px 2px rgba(0, 0, 0, 0.3));\n",
              "        fill: #FFFFFF;\n",
              "      }\n",
              "    </style>\n",
              "    <button class=\"colab-df-generate\" onclick=\"generateWithVariable('train')\"\n",
              "            title=\"Generate code using this dataframe.\"\n",
              "            style=\"display:none;\">\n",
              "\n",
              "  <svg xmlns=\"http://www.w3.org/2000/svg\" height=\"24px\"viewBox=\"0 0 24 24\"\n",
              "       width=\"24px\">\n",
              "    <path d=\"M7,19H8.4L18.45,9,17,7.55,7,17.6ZM5,21V16.75L18.45,3.32a2,2,0,0,1,2.83,0l1.4,1.43a1.91,1.91,0,0,1,.58,1.4,1.91,1.91,0,0,1-.58,1.4L9.25,21ZM18.45,9,17,7.55Zm-12,3A5.31,5.31,0,0,0,4.9,8.1,5.31,5.31,0,0,0,1,6.5,5.31,5.31,0,0,0,4.9,4.9,5.31,5.31,0,0,0,6.5,1,5.31,5.31,0,0,0,8.1,4.9,5.31,5.31,0,0,0,12,6.5,5.46,5.46,0,0,0,6.5,12Z\"/>\n",
              "  </svg>\n",
              "    </button>\n",
              "    <script>\n",
              "      (() => {\n",
              "      const buttonEl =\n",
              "        document.querySelector('#id_7a1d2f0e-2f04-4e8a-8c1a-ea52bd5d736c button.colab-df-generate');\n",
              "      buttonEl.style.display =\n",
              "        google.colab.kernel.accessAllowed ? 'block' : 'none';\n",
              "\n",
              "      buttonEl.onclick = () => {\n",
              "        google.colab.notebook.generateWithVariable('train');\n",
              "      }\n",
              "      })();\n",
              "    </script>\n",
              "  </div>\n",
              "\n",
              "    </div>\n",
              "  </div>\n"
            ],
            "application/vnd.google.colaboratory.intrinsic+json": {
              "type": "dataframe",
              "variable_name": "train",
              "summary": "{\n  \"name\": \"train\",\n  \"rows\": 500,\n  \"fields\": [\n    {\n      \"column\": \"medical_specialty\",\n      \"properties\": {\n        \"dtype\": \"category\",\n        \"num_unique_values\": 5,\n        \"samples\": [\n          \"Gastroenterology\",\n          \"Surgery\",\n          \"Neurology\"\n        ],\n        \"semantic_type\": \"\",\n        \"description\": \"\"\n      }\n    },\n    {\n      \"column\": \"report\",\n      \"properties\": {\n        \"dtype\": \"string\",\n        \"num_unique_values\": 467,\n        \"samples\": [\n          \"PROCEDURE DONE:  ,Resting Myoview and adenosine Myoview SPECT.,INDICATIONS:,  Chest pain.,PROCEDURE:,  13.3 mCi of Tc-99m tetrofosmin was injected and resting Myoview SPECT was obtained.  Pharmacologic stress testing was done using adenosine infusion.  Patient received 38 mg of adenosine infused at 140 mcg/kg/minute over a period of four minutes.  Two minutes during adenosine infusion, 31.6 mCi of Tc-99m tetrofosmin was injected.  Resting heart rate was 90 beats per minute.  Resting blood pressure was 130/70.  Peak heart rate obtained during adenosine infusion was 102 beats per minute.  Blood pressure obtained during adenosine infusion was 112/70.  During adenosine infusion, patient experienced dizziness and shortness of breath.  No significant ST segment, T wave changes, or arrhythmias were seen.,Resting Myoview and adenosine Myoview SPECT showed uniform uptake of isotope throughout myocardium without any perfusion defect.  Gated dynamic imaging showed normal wall motion and normal systolic thickening throughout left ventricular myocardium.  Left ventricular ejection fraction obtained during adenosine Myoview SPECT was 77%.  Lung heart ratio was 0.40.  TID ratio was 0.88.,IMPRESSION:,  Normal adenosine Myoview myocardial perfusion SPECT.  Normal left ventricular regional and global function with left ventricular ejection fraction of 77%.\",\n          \"REASON FOR CONSULTATION:,  Pneumothorax and subcutaneous emphysema.,HISTORY OF PRESENT ILLNESS: , The patient is a 48-year-old male who was initially seen in the emergency room on Monday with complaints of scapular pain.  The patient presented the following day with subcutaneous emphysema and continued complaints of pain as well as change in his voice.  The patient was evaluated with a CT scan of the chest and neck which demonstrated significant subcutaneous emphysema, a small right-sided pneumothorax, but no other findings.  The patient was admitted for observation.,PAST SURGICAL HISTORY: , Hernia repair and tonsillectomy.,ALLERGIES: , Penicillin.,MEDICATIONS: , Please see chart.,REVIEW OF SYSTEMS:,  Not contributory.,PHYSICAL EXAMINATION:,GENERAL:  Well developed, well nourished, lying on hospital bed in minimal distress.,HEENT:  Normocephalic and atraumatic.  Pupils are equal, round, and reactive to light.  Extraocular muscles are intact.,NECK:  Supple.  Trachea is midline.,CHEST:  Clear to auscultation bilaterally.,CARDIOVASCULAR:  Regular rate and rhythm.,ABDOMEN:  Soft, nontender, and nondistended.  Normoactive bowel sounds.,EXTREMITIES:  No clubbing, edema, or cyanosis.,SKIN:  The patient has significant subcutaneous emphysema of the upper chest and anterior neck area although he states that the subcutaneous emphysema has improved significantly since yesterday.,DIAGNOSTIC STUDIES:,  As above.,IMPRESSION: , The patient is a 48-year-old male with subcutaneous emphysema and a small right-sided pneumothorax secondary to trauma.  These are likely a result of either a parenchymal lung tear versus a small tracheobronchial tree rend.,RECOMMENDATIONS:,  At this time, the CT Surgery service has been consulted and has left recommendations.  The patient also is awaiting bronchoscopy per the Pulmonary Service.  At this time, there are no General Surgery issues.\",\n          \"PREOPERATIVE DIAGNOSES:,1.  Ventilator-dependent respiratory failure.,2.  Laryngeal edema.,POSTOPERATIVE DIAGNOSES:,1.  Ventilator-dependent respiratory failure.,2.  Laryngeal edema.,PROCEDURE PERFORMED: , Tracheostomy change.  A #6 Shiley with proximal extension was changed to a #6 Shiley with proximal extension.,INDICATIONS: , The patient is a 60-year-old Caucasian female who presented to ABCD General Hospital with exacerbation of COPD and CHF.  The patient had subsequently been taken to the operating room by Department of Otolaryngology and a direct laryngoscope was performed.  The patient was noted at that time to have transglottic edema.  Biopsies were taken.  At the time of surgery, it was decided that the patient required a tracheostomy for maintenance of continued ventilation and airway protection.  The patient is currently postop day #6 and appears to be unable to be weaned from ventilator at this time and may require prolonged ventricular support.  A decision was made to perform tracheostomy change.,DESCRIPTION OF PROCEDURE: , The patient was seen in the Intensive Care Unit.  The patient was placed in a supine position.  The neck was then extended.  The sutures that were previously in place in the #6 Shiley with proximal extension were removed.  The patient was preoxygenated to 100%.  After several minutes, the patient was noted to have a pulse oximetry of 100%.  The IV tubing that was supporting the patient's trache was then cut.  The tracheostomy tube was then suctioned.,The inner cannula was then removed from the tracheostomy and a nasogastric tube was placed down the lumen of the tracheostomy tube as a guidewire.  The tracheostomy tube was then removed over the nasogastric tube and the operative field was suctioned.  With the guidewire in place and with adequate visualization, a new #6 Shiley with proximal extension was then passed over the nasogastric tube guidewire and carefully inserted into the trachea.  The guidewire was then removed and the inner cannula was then placed into the tracheostomy.  The patient was then reconnected to the ventilator and was noted to have normal tidal volumes.  The patient had a tidal volume of 500 and was returning 500 cc to 510 cc.  The patient continued to saturate well with saturations 99%.  The patient appeared comfortable and her vital signs were stable.  A soft trache collar was then connected to the trachesotomy.  A drain sponge was then inserted underneath the new trache site.  The patient was observed for several minutes and was found to be in no distress and continued to maintain adequate saturations and continued to return normal tidal volumes.,COMPLICATIONS: , None.,DISPOSITION: , The patient tolerated the procedure well.  0.25% acetic acid soaks were ordered to the drain sponge every shift.\"\n        ],\n        \"semantic_type\": \"\",\n        \"description\": \"\"\n      }\n    }\n  ]\n}"
            }
          },
          "metadata": {},
          "execution_count": 22
        }
      ]
    },
    {
      "cell_type": "code",
      "source": [
        "import tiktoken"
      ],
      "metadata": {
        "id": "VeJgBR1yTboL"
      },
      "execution_count": null,
      "outputs": []
    },
    {
      "cell_type": "code",
      "source": [
        "def num_tokens_from_string(string):\n",
        "    encoding=tiktoken.get_encoding('cl100k_base')\n",
        "    num_tokens=len(encoding.encode(string))\n",
        "    return num_tokens"
      ],
      "metadata": {
        "id": "ZTEaLO1NUE_E"
      },
      "execution_count": null,
      "outputs": []
    },
    {
      "cell_type": "code",
      "source": [
        "num_tokens_from_string(\"hello how are you!\")"
      ],
      "metadata": {
        "colab": {
          "base_uri": "https://localhost:8080/"
        },
        "id": "BrlfV-6KUEwK",
        "outputId": "5c6e345c-f47f-40f5-ae0a-2bdb9a4d9b88"
      },
      "execution_count": null,
      "outputs": [
        {
          "output_type": "execute_result",
          "data": {
            "text/plain": [
              "5"
            ]
          },
          "metadata": {},
          "execution_count": 28
        }
      ]
    },
    {
      "cell_type": "code",
      "source": [
        "report_lengths=train['report'].apply(num_tokens_from_string)"
      ],
      "metadata": {
        "id": "V46r8GXqUEg0"
      },
      "execution_count": null,
      "outputs": []
    },
    {
      "cell_type": "code",
      "source": [
        "report_lengths.sum()"
      ],
      "metadata": {
        "colab": {
          "base_uri": "https://localhost:8080/"
        },
        "id": "I8pQdIY_VmMf",
        "outputId": "3556c0e6-c76a-46a7-8017-492e63a48ae3"
      },
      "execution_count": null,
      "outputs": [
        {
          "output_type": "execute_result",
          "data": {
            "text/plain": [
              "np.int64(337394)"
            ]
          },
          "metadata": {},
          "execution_count": 31
        }
      ]
    },
    {
      "cell_type": "code",
      "source": [
        "report_lengths.describe()"
      ],
      "metadata": {
        "colab": {
          "base_uri": "https://localhost:8080/",
          "height": 335
        },
        "id": "ZmKdFmhXVE9Y",
        "outputId": "216cd96e-8f2a-4ad9-fb99-4cecaa58b467"
      },
      "execution_count": null,
      "outputs": [
        {
          "output_type": "execute_result",
          "data": {
            "text/plain": [
              "count     500.000000\n",
              "mean      674.788000\n",
              "std       427.809075\n",
              "min        14.000000\n",
              "25%       358.000000\n",
              "50%       593.500000\n",
              "75%       904.000000\n",
              "max      3701.000000\n",
              "Name: report, dtype: float64"
            ],
            "text/html": [
              "<div>\n",
              "<style scoped>\n",
              "    .dataframe tbody tr th:only-of-type {\n",
              "        vertical-align: middle;\n",
              "    }\n",
              "\n",
              "    .dataframe tbody tr th {\n",
              "        vertical-align: top;\n",
              "    }\n",
              "\n",
              "    .dataframe thead th {\n",
              "        text-align: right;\n",
              "    }\n",
              "</style>\n",
              "<table border=\"1\" class=\"dataframe\">\n",
              "  <thead>\n",
              "    <tr style=\"text-align: right;\">\n",
              "      <th></th>\n",
              "      <th>report</th>\n",
              "    </tr>\n",
              "  </thead>\n",
              "  <tbody>\n",
              "    <tr>\n",
              "      <th>count</th>\n",
              "      <td>500.000000</td>\n",
              "    </tr>\n",
              "    <tr>\n",
              "      <th>mean</th>\n",
              "      <td>674.788000</td>\n",
              "    </tr>\n",
              "    <tr>\n",
              "      <th>std</th>\n",
              "      <td>427.809075</td>\n",
              "    </tr>\n",
              "    <tr>\n",
              "      <th>min</th>\n",
              "      <td>14.000000</td>\n",
              "    </tr>\n",
              "    <tr>\n",
              "      <th>25%</th>\n",
              "      <td>358.000000</td>\n",
              "    </tr>\n",
              "    <tr>\n",
              "      <th>50%</th>\n",
              "      <td>593.500000</td>\n",
              "    </tr>\n",
              "    <tr>\n",
              "      <th>75%</th>\n",
              "      <td>904.000000</td>\n",
              "    </tr>\n",
              "    <tr>\n",
              "      <th>max</th>\n",
              "      <td>3701.000000</td>\n",
              "    </tr>\n",
              "  </tbody>\n",
              "</table>\n",
              "</div><br><label><b>dtype:</b> float64</label>"
            ]
          },
          "metadata": {},
          "execution_count": 30
        }
      ]
    },
    {
      "cell_type": "code",
      "source": [
        "price_model=0.008"
      ],
      "metadata": {
        "id": "oWbs2hETVSzu"
      },
      "execution_count": null,
      "outputs": []
    },
    {
      "cell_type": "code",
      "source": [
        "price_per_epoch=337394*0.008/1000"
      ],
      "metadata": {
        "id": "cFuVEpLWWEqP"
      },
      "execution_count": null,
      "outputs": []
    },
    {
      "cell_type": "code",
      "source": [
        "price_per_epoch"
      ],
      "metadata": {
        "colab": {
          "base_uri": "https://localhost:8080/"
        },
        "id": "DZrq96I9WIAR",
        "outputId": "1141d735-b27b-422c-a3f7-33fb7d236961"
      },
      "execution_count": null,
      "outputs": [
        {
          "output_type": "execute_result",
          "data": {
            "text/plain": [
              "2.699152"
            ]
          },
          "metadata": {},
          "execution_count": 34
        }
      ]
    },
    {
      "cell_type": "code",
      "source": [
        "train['medical_specialty'].unique()"
      ],
      "metadata": {
        "colab": {
          "base_uri": "https://localhost:8080/"
        },
        "id": "ZwQB0UJEWH84",
        "outputId": "87780a65-5d5b-4b21-efb2-bac1a0c93427"
      },
      "execution_count": null,
      "outputs": [
        {
          "output_type": "execute_result",
          "data": {
            "text/plain": [
              "array(['Cardiovascular / Pulmonary', 'Gastroenterology', 'Neurology',\n",
              "       'Radiology', 'Surgery'], dtype=object)"
            ]
          },
          "metadata": {},
          "execution_count": 35
        }
      ]
    },
    {
      "cell_type": "code",
      "source": [
        "system_prompt=\"Given the medical description report, classify it into one of these categories: \" + \\\n",
        "\"Cardiovascular / Pulmonary, Gastroenterology, Neurology, Radiology, Surgery\""
      ],
      "metadata": {
        "id": "RM8i9-9oWXjq"
      },
      "execution_count": null,
      "outputs": []
    },
    {
      "cell_type": "code",
      "source": [
        "print(system_prompt)"
      ],
      "metadata": {
        "colab": {
          "base_uri": "https://localhost:8080/"
        },
        "id": "GdWvm4uJWXdS",
        "outputId": "f51b7644-3a18-48ca-b431-ff01136cc992"
      },
      "execution_count": null,
      "outputs": [
        {
          "output_type": "stream",
          "name": "stdout",
          "text": [
            "Given the medical description report, classify it into one of these categories: Cardiovascular / Pulmonary, Gastroenterology, Neurology, Radiology, Surgery\n"
          ]
        }
      ]
    },
    {
      "cell_type": "code",
      "source": [
        "sample_prompt={\"messages\": [{'role': 'system', 'content': system_prompt},\n",
        "                              {'role': 'user', 'content': train['report'].iloc[0]},\n",
        "                              {'role': 'assistant', 'content': train[\"medical_specialty\"].iloc[0]}]}"
      ],
      "metadata": {
        "id": "L5itVJGZWXTW"
      },
      "execution_count": null,
      "outputs": []
    },
    {
      "cell_type": "code",
      "source": [
        "def df_to_format(df):\n",
        "  formatted_data=[]\n",
        "\n",
        "  for index, row in df.iterrows():\n",
        "        entry = {\"messages\": [{\"role\": \"system\", \"content\": system_prompt},\n",
        "                              {\"role\": \"user\", \"content\": row[\"report\"]},\n",
        "                              {\"role\": \"assistant\", \"content\": row[\"medical_specialty\"]}]}\n",
        "        formatted_data.append(entry)\n",
        "  return formatted_data"
      ],
      "metadata": {
        "id": "2gW9k6bQWH6F"
      },
      "execution_count": null,
      "outputs": []
    },
    {
      "cell_type": "code",
      "source": [
        "data=df_to_format(train)"
      ],
      "metadata": {
        "id": "KIvxARdCWH3Y"
      },
      "execution_count": null,
      "outputs": []
    },
    {
      "cell_type": "code",
      "source": [
        "data[10]"
      ],
      "metadata": {
        "colab": {
          "base_uri": "https://localhost:8080/"
        },
        "id": "N-LWWDV9WH0y",
        "outputId": "bd085816-3502-499e-92fb-99e787c2d5ba"
      },
      "execution_count": null,
      "outputs": [
        {
          "output_type": "execute_result",
          "data": {
            "text/plain": [
              "{'messages': [{'role': 'system',\n",
              "   'content': 'Given the medical description report, classify it into one of these categories: Cardiovascular / Pulmonary, Gastroenterology, Neurology, Radiology, Surgery'},\n",
              "  {'role': 'user',\n",
              "   'content': \"OPERATION: , Subxiphoid pericardial window.,ANESTHESIA: , General endotracheal anesthesia.,OPERATIVE PROCEDURE IN DETAIL:  ,After obtaining informed consent from the patient's family, including a thorough explanation of the risks and benefits of the aforementioned procedure, patient was taken to the operating room and general endotracheal anesthesia was administered.  Next, the neck and chest were prepped and draped in the standard surgical fashion.  A #10-blade scalpel was used to make an incision in the area of the xiphoid process.  Dissection was carried down to the level of the fascia using Bovie electrocautery.  The xiphoid process was elevated, and the diaphragmatic attachments to it were dissected free.  Next the pericardium was identified.,The pericardium was opened with Bovie electrocautery.  Upon entering the pericardium, serous fluid was expressed.  In total, ** cc of fluid was drained.  A pericardial biopsy was obtained.  The fluid was sent off for cytologic examination as well as for culture.  A #24 Blake chest drain was brought out through the skin and placed in the posterior pericardium.  The fascia was closed with #1 Vicryl followed by 2-0 Vicryl followed by 4-0 PDS in a running subcuticular fashion.  Sterile dressing was applied.\"},\n",
              "  {'role': 'assistant', 'content': 'Cardiovascular / Pulmonary'}]}"
            ]
          },
          "metadata": {},
          "execution_count": 45
        }
      ]
    },
    {
      "cell_type": "code",
      "source": [
        "import json"
      ],
      "metadata": {
        "id": "W4OyHIw4WHx7"
      },
      "execution_count": null,
      "outputs": []
    },
    {
      "cell_type": "code",
      "source": [
        "with open('fine_tuning_data.jsonl','w')as f:\n",
        "  for entry in data:\n",
        "    f.write(json.dumps(entry))\n",
        "    f.write('\\n')"
      ],
      "metadata": {
        "id": "axzwJktFWHvM"
      },
      "execution_count": null,
      "outputs": []
    },
    {
      "cell_type": "code",
      "source": [
        "val_data=df_to_format(val)"
      ],
      "metadata": {
        "id": "WcS-U1PlWHsY"
      },
      "execution_count": null,
      "outputs": []
    },
    {
      "cell_type": "code",
      "source": [
        "with open('val_data.jsonl','w')as f:\n",
        "  for entry in val_data:\n",
        "    f.write(json.dumps(entry))\n",
        "    f.write('\\n')"
      ],
      "metadata": {
        "id": "sopHOPxtWHpr"
      },
      "execution_count": null,
      "outputs": []
    },
    {
      "cell_type": "code",
      "source": [
        "import os"
      ],
      "metadata": {
        "id": "wm3vMDulWHm6"
      },
      "execution_count": null,
      "outputs": []
    },
    {
      "cell_type": "code",
      "source": [
        "import openai"
      ],
      "metadata": {
        "id": "xFO63Zo4WHjq"
      },
      "execution_count": null,
      "outputs": []
    },
    {
      "cell_type": "code",
      "source": [
        "os.environ['OPENAI_API_KEY']=''"
      ],
      "metadata": {
        "id": "P0zTJSOzWHgr"
      },
      "execution_count": null,
      "outputs": []
    },
    {
      "cell_type": "code",
      "source": [
        "from openai import OpenAI"
      ],
      "metadata": {
        "id": "_LYxOBINWHd1"
      },
      "execution_count": null,
      "outputs": []
    },
    {
      "cell_type": "code",
      "source": [
        "client=OpenAI()"
      ],
      "metadata": {
        "id": "5IOdmf-ppwCk"
      },
      "execution_count": null,
      "outputs": []
    },
    {
      "cell_type": "code",
      "source": [
        "file_upload_response=client.files.create(\n",
        "    file=open('fine_tuning_data.jsonl','rb'),\n",
        "    purpose='fine-tune'\n",
        ")"
      ],
      "metadata": {
        "id": "5WjK2xjrpv_k"
      },
      "execution_count": null,
      "outputs": []
    },
    {
      "cell_type": "code",
      "source": [
        "file_upload_response"
      ],
      "metadata": {
        "colab": {
          "base_uri": "https://localhost:8080/"
        },
        "id": "6ei4B8a0pv8x",
        "outputId": "e6397182-d680-4eea-b251-30baf64486f7"
      },
      "execution_count": null,
      "outputs": [
        {
          "output_type": "execute_result",
          "data": {
            "text/plain": [
              "FileObject(id='file-CKeFRq7F8z4xq5xmKTrEXG', bytes=1542622, created_at=1753934724, filename='fine_tuning_data.jsonl', object='file', purpose='fine-tune', status='processed', expires_at=None, status_details=None)"
            ]
          },
          "metadata": {},
          "execution_count": 58
        }
      ]
    },
    {
      "cell_type": "code",
      "source": [
        "file_upload_response_val=client.files.create(file=open('val_data.jsonl','rb'),purpose='fine-tune')"
      ],
      "metadata": {
        "id": "IFfErWARpv6C"
      },
      "execution_count": null,
      "outputs": []
    },
    {
      "cell_type": "code",
      "source": [
        "file_upload_response_val"
      ],
      "metadata": {
        "colab": {
          "base_uri": "https://localhost:8080/"
        },
        "id": "MW8OnAYvpv3S",
        "outputId": "0539f8c6-6160-4713-fb1c-aa070dc7a702"
      },
      "execution_count": null,
      "outputs": [
        {
          "output_type": "execute_result",
          "data": {
            "text/plain": [
              "FileObject(id='file-PRX1g8gA2eBDP96eiB68eR', bytes=101434, created_at=1753934850, filename='val_data.jsonl', object='file', purpose='fine-tune', status='processed', expires_at=None, status_details=None)"
            ]
          },
          "metadata": {},
          "execution_count": 61
        }
      ]
    },
    {
      "cell_type": "code",
      "source": [
        "fine_tuning_response=client.fine_tuning.jobs.create(\n",
        "    training_file=file_upload_response.id,\n",
        "    validation_file=file_upload_response_val.id,\n",
        "    hyperparameters={'n_epochs':1},\n",
        "    model='gpt-3.5-turbo')"
      ],
      "metadata": {
        "id": "6iufPxMYpv0t"
      },
      "execution_count": null,
      "outputs": []
    },
    {
      "cell_type": "code",
      "source": [
        "fine_tuning_response"
      ],
      "metadata": {
        "colab": {
          "base_uri": "https://localhost:8080/"
        },
        "id": "uopptMyspvx5",
        "outputId": "fa20ffc5-1c6e-47f4-81e7-de9a81ba1e34"
      },
      "execution_count": null,
      "outputs": [
        {
          "output_type": "execute_result",
          "data": {
            "text/plain": [
              "FineTuningJob(id='ftjob-X0c2QJavP4z1AlIf26naLUNR', created_at=1753935095, error=Error(code=None, message=None, param=None), fine_tuned_model=None, finished_at=None, hyperparameters=Hyperparameters(batch_size='auto', learning_rate_multiplier='auto', n_epochs=1), model='gpt-3.5-turbo-0125', object='fine_tuning.job', organization_id='org-PGNpgXCyulx5a94zKJeejNKQ', result_files=[], seed=1010225850, status='validating_files', trained_tokens=None, training_file='file-CKeFRq7F8z4xq5xmKTrEXG', validation_file='file-PRX1g8gA2eBDP96eiB68eR', estimated_finish=None, integrations=[], metadata=None, method=Method(type='supervised', dpo=None, reinforcement=None, supervised=SupervisedMethod(hyperparameters=SupervisedHyperparameters(batch_size='auto', learning_rate_multiplier='auto', n_epochs=1))), user_provided_suffix=None, usage_metrics=None, shared_with_openai=False, eval_id=None)"
            ]
          },
          "metadata": {},
          "execution_count": 64
        }
      ]
    },
    {
      "cell_type": "code",
      "source": [
        "client.fine_tuning.jobs.list(limit=1)"
      ],
      "metadata": {
        "colab": {
          "base_uri": "https://localhost:8080/"
        },
        "id": "Zv69PNR4pvvX",
        "outputId": "7574cdff-a7be-4d57-faab-75e1b4964917"
      },
      "execution_count": null,
      "outputs": [
        {
          "output_type": "execute_result",
          "data": {
            "text/plain": [
              "SyncCursorPage[FineTuningJob](data=[FineTuningJob(id='ftjob-X0c2QJavP4z1AlIf26naLUNR', created_at=1753935095, error=Error(code=None, message=None, param=None), fine_tuned_model=None, finished_at=1753936263, hyperparameters=Hyperparameters(batch_size=1, learning_rate_multiplier=2.0, n_epochs=1), model='gpt-3.5-turbo-0125', object='fine_tuning.job', organization_id='org-PGNpgXCyulx5a94zKJeejNKQ', result_files=[], seed=1010225850, status='running', trained_tokens=None, training_file='file-CKeFRq7F8z4xq5xmKTrEXG', validation_file='file-PRX1g8gA2eBDP96eiB68eR', estimated_finish=None, integrations=[], metadata=None, method=Method(type='supervised', dpo=None, reinforcement=None, supervised=SupervisedMethod(hyperparameters=SupervisedHyperparameters(batch_size=1, learning_rate_multiplier=2.0, n_epochs=1))), user_provided_suffix=None, usage_metrics=None, shared_with_openai=False, eval_id=None)], has_more=False, object='list')"
            ]
          },
          "metadata": {},
          "execution_count": 77
        }
      ]
    },
    {
      "cell_type": "code",
      "source": [
        "train_event=client.fine_tuning.jobs.list_events(fine_tuning_job_id='ftjob-2QJavP4z1AlIf26naLUNR',\n",
        "                                                limit=500\n",
        ")"
      ],
      "metadata": {
        "id": "4ZGVUq7VyaNs"
      },
      "execution_count": null,
      "outputs": []
    },
    {
      "cell_type": "code",
      "source": [
        "train_event.data[2].data"
      ],
      "metadata": {
        "colab": {
          "base_uri": "https://localhost:8080/"
        },
        "id": "tPIeutQKpvsY",
        "outputId": "dc60746c-1cf4-4ae3-abdc-2eccb1d921f3"
      },
      "execution_count": null,
      "outputs": [
        {
          "output_type": "execute_result",
          "data": {
            "text/plain": [
              "{'step': 500,\n",
              " 'train_loss': 2.670288040462765e-06,\n",
              " 'valid_loss': 2.384185791015625e-07,\n",
              " 'total_steps': 500,\n",
              " 'full_valid_loss': 0.8527863537823712,\n",
              " 'train_mean_token_accuracy': 1.0,\n",
              " 'valid_mean_token_accuracy': 1.0,\n",
              " 'full_valid_mean_token_accuracy': 0.9407407407407408}"
            ]
          },
          "metadata": {},
          "execution_count": 80
        }
      ]
    },
    {
      "cell_type": "code",
      "source": [
        "train_loss=[]\n",
        "val_loss=[]\n",
        "\n",
        "for item in train_event.data:\n",
        "  train_data=item.data\n",
        "  if train_data and 'train_loss' in train_data:\n",
        "    train_loss.insert(0,train_data['train_loss'])\n",
        "  if 'valid_loss' in train_data:\n",
        "    val_loss.insert(0,train_data['valid_loss'])"
      ],
      "metadata": {
        "id": "SunO7wPrpvpT"
      },
      "execution_count": null,
      "outputs": []
    },
    {
      "cell_type": "code",
      "source": [
        "import matplotlib.pyplot as plt\n",
        "plt.figure()\n",
        "plt.plot(train_loss)\n",
        "plt.plot(val_loss)"
      ],
      "metadata": {
        "colab": {
          "base_uri": "https://localhost:8080/",
          "height": 448
        },
        "id": "TbUcMFw2pvmg",
        "outputId": "fbf82755-976c-4fda-f8ca-0f32bb93e11e"
      },
      "execution_count": null,
      "outputs": [
        {
          "output_type": "execute_result",
          "data": {
            "text/plain": [
              "[<matplotlib.lines.Line2D at 0x791dcdbca850>]"
            ]
          },
          "metadata": {},
          "execution_count": 88
        },
        {
          "output_type": "display_data",
          "data": {
            "text/plain": [
              "<Figure size 640x480 with 1 Axes>"
            ],
            "image/png": "[encoded data removed]"
          },
          "metadata": {}
        }
      ]
    },
    {
      "cell_type": "code",
      "source": [
        "test_report=test['report'].iloc[1]"
      ],
      "metadata": {
        "id": "wj3Ym_aRpvfa"
      },
      "execution_count": null,
      "outputs": []
    },
    {
      "cell_type": "code",
      "source": [
        "completion=client.chat.completions.create(model='ft:gpt-3.5-turbo-0125:personal::BzFEcshi',\n",
        "                                          messages=[\n",
        "                                              {\"role\":\"system\",\"content\":system_prompt},\n",
        "                                              {\"role\":\"user\",\"content\":test_report}\n",
        "                                          ])"
      ],
      "metadata": {
        "id": "HJmKeszl0_3m"
      },
      "execution_count": null,
      "outputs": []
    },
    {
      "cell_type": "code",
      "source": [
        "completion.choices[0].message.content"
      ],
      "metadata": {
        "colab": {
          "base_uri": "https://localhost:8080/",
          "height": 36
        },
        "id": "tvAl14VP0_0U",
        "outputId": "b15dd218-a143-4650-b332-a0179c2ab344"
      },
      "execution_count": null,
      "outputs": [
        {
          "output_type": "execute_result",
          "data": {
            "text/plain": [
              "'Cardiovascular / Pulmonary'"
            ],
            "application/vnd.google.colaboratory.intrinsic+json": {
              "type": "string"
            }
          },
          "metadata": {},
          "execution_count": 94
        }
      ]
    },
    {
      "cell_type": "code",
      "source": [
        "system_prompt"
      ],
      "metadata": {
        "colab": {
          "base_uri": "https://localhost:8080/",
          "height": 54
        },
        "id": "C1Ny1DWA0_xj",
        "outputId": "9dacbb33-0d2a-4662-e5ae-20a8c5ccee7d"
      },
      "execution_count": null,
      "outputs": [
        {
          "output_type": "execute_result",
          "data": {
            "text/plain": [
              "'Given the medical description report, classify it into one of these categories: Cardiovascular / Pulmonary, Gastroenterology, Neurology, Radiology, Surgery'"
            ],
            "application/vnd.google.colaboratory.intrinsic+json": {
              "type": "string"
            }
          },
          "metadata": {},
          "execution_count": 95
        }
      ]
    },
    {
      "cell_type": "code",
      "source": [
        "def classify_report(report,model):\n",
        "  completion=client.chat.completions.create(model=model,\n",
        "                                          messages=[\n",
        "                                              {\"role\":\"system\",\"content\":system_prompt},\n",
        "                                              {\"role\":\"user\",\"content\":report}\n",
        "                                          ])\n",
        "  return completion"
      ],
      "metadata": {
        "id": "1tSRzlhP0_uc"
      },
      "execution_count": null,
      "outputs": []
    },
    {
      "cell_type": "code",
      "source": [
        "predicted_classes=[]\n",
        "ground_truth_classes=[]\n",
        "\n",
        "for line in test.iterrows():\n",
        "  report,specialty=line[1]['report'],line[1]['medical_specialty']\n",
        "  ground_truth_classes.append(specialty.strip())\n",
        "  prediction=classify_report(report,model='ft:gpt-3.5-turbo-0125:personal::BzFEcshi')\n",
        "  predicted_classes.append(prediction.choices[0].message.content.strip())\n"
      ],
      "metadata": {
        "id": "Fg0iZLld0_sA"
      },
      "execution_count": null,
      "outputs": []
    },
    {
      "cell_type": "code",
      "source": [
        "import numpy as np\n",
        "(np.array(predicted_classes)==np.array(ground_truth_classes)).mean()"
      ],
      "metadata": {
        "colab": {
          "base_uri": "https://localhost:8080/"
        },
        "id": "wtqi_MhK0_pE",
        "outputId": "6fabd19c-9185-4f3c-93ff-4564c1df6895"
      },
      "execution_count": null,
      "outputs": [
        {
          "output_type": "execute_result",
          "data": {
            "text/plain": [
              "np.float64(0.52)"
            ]
          },
          "metadata": {},
          "execution_count": 101
        }
      ]
    }
  ],
  "metadata": {
    "colab": {
      "provenance": [],
      "include_colab_link": true
    },
    "kernelspec": {
      "display_name": "Python 3",
      "name": "python3"
    }
  },
  "nbformat": 4,
  "nbformat_minor": 0
}